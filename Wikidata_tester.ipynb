{
  "nbformat": 4,
  "nbformat_minor": 0,
  "metadata": {
    "colab": {
      "provenance": []
    },
    "kernelspec": {
      "name": "python3",
      "display_name": "Python 3"
    },
    "language_info": {
      "name": "python"
    },
    "widgets": {
      "application/vnd.jupyter.widget-state+json": {
        "1c2213b8ff0a4a159c2214d0dfe94efe": {
          "model_module": "@jupyter-widgets/controls",
          "model_name": "TextModel",
          "model_module_version": "1.5.0",
          "state": {
            "_dom_classes": [],
            "_model_module": "@jupyter-widgets/controls",
            "_model_module_version": "1.5.0",
            "_model_name": "TextModel",
            "_view_count": null,
            "_view_module": "@jupyter-widgets/controls",
            "_view_module_version": "1.5.0",
            "_view_name": "TextView",
            "continuous_update": true,
            "description": "Wikidata Item ID:",
            "description_tooltip": null,
            "disabled": false,
            "layout": "IPY_MODEL_fbb7981ecb4e46469e426e91f3cebd85",
            "placeholder": "​",
            "style": "IPY_MODEL_7809e1cb353846259329677d5839187a",
            "value": "Q164106"
          }
        },
        "fbb7981ecb4e46469e426e91f3cebd85": {
          "model_module": "@jupyter-widgets/base",
          "model_name": "LayoutModel",
          "model_module_version": "1.2.0",
          "state": {
            "_model_module": "@jupyter-widgets/base",
            "_model_module_version": "1.2.0",
            "_model_name": "LayoutModel",
            "_view_count": null,
            "_view_module": "@jupyter-widgets/base",
            "_view_module_version": "1.2.0",
            "_view_name": "LayoutView",
            "align_content": null,
            "align_items": null,
            "align_self": null,
            "border": null,
            "bottom": null,
            "display": null,
            "flex": null,
            "flex_flow": null,
            "grid_area": null,
            "grid_auto_columns": null,
            "grid_auto_flow": null,
            "grid_auto_rows": null,
            "grid_column": null,
            "grid_gap": null,
            "grid_row": null,
            "grid_template_areas": null,
            "grid_template_columns": null,
            "grid_template_rows": null,
            "height": null,
            "justify_content": null,
            "justify_items": null,
            "left": null,
            "margin": null,
            "max_height": null,
            "max_width": null,
            "min_height": null,
            "min_width": null,
            "object_fit": null,
            "object_position": null,
            "order": null,
            "overflow": null,
            "overflow_x": null,
            "overflow_y": null,
            "padding": null,
            "right": null,
            "top": null,
            "visibility": null,
            "width": null
          }
        },
        "7809e1cb353846259329677d5839187a": {
          "model_module": "@jupyter-widgets/controls",
          "model_name": "DescriptionStyleModel",
          "model_module_version": "1.5.0",
          "state": {
            "_model_module": "@jupyter-widgets/controls",
            "_model_module_version": "1.5.0",
            "_model_name": "DescriptionStyleModel",
            "_view_count": null,
            "_view_module": "@jupyter-widgets/base",
            "_view_module_version": "1.2.0",
            "_view_name": "StyleView",
            "description_width": ""
          }
        },
        "1f0285e7464b401a8c5e85e9898e25c6": {
          "model_module": "@jupyter-widgets/controls",
          "model_name": "ButtonModel",
          "model_module_version": "1.5.0",
          "state": {
            "_dom_classes": [],
            "_model_module": "@jupyter-widgets/controls",
            "_model_module_version": "1.5.0",
            "_model_name": "ButtonModel",
            "_view_count": null,
            "_view_module": "@jupyter-widgets/controls",
            "_view_module_version": "1.5.0",
            "_view_name": "ButtonView",
            "button_style": "",
            "description": "Check",
            "disabled": false,
            "icon": "",
            "layout": "IPY_MODEL_6b1318021d3e4f14ab4ef2e87f7ee50a",
            "style": "IPY_MODEL_235f26fc29994b5ba372d2ed7836ed13",
            "tooltip": ""
          }
        },
        "6b1318021d3e4f14ab4ef2e87f7ee50a": {
          "model_module": "@jupyter-widgets/base",
          "model_name": "LayoutModel",
          "model_module_version": "1.2.0",
          "state": {
            "_model_module": "@jupyter-widgets/base",
            "_model_module_version": "1.2.0",
            "_model_name": "LayoutModel",
            "_view_count": null,
            "_view_module": "@jupyter-widgets/base",
            "_view_module_version": "1.2.0",
            "_view_name": "LayoutView",
            "align_content": null,
            "align_items": null,
            "align_self": null,
            "border": null,
            "bottom": null,
            "display": null,
            "flex": null,
            "flex_flow": null,
            "grid_area": null,
            "grid_auto_columns": null,
            "grid_auto_flow": null,
            "grid_auto_rows": null,
            "grid_column": null,
            "grid_gap": null,
            "grid_row": null,
            "grid_template_areas": null,
            "grid_template_columns": null,
            "grid_template_rows": null,
            "height": null,
            "justify_content": null,
            "justify_items": null,
            "left": null,
            "margin": null,
            "max_height": null,
            "max_width": null,
            "min_height": null,
            "min_width": null,
            "object_fit": null,
            "object_position": null,
            "order": null,
            "overflow": null,
            "overflow_x": null,
            "overflow_y": null,
            "padding": null,
            "right": null,
            "top": null,
            "visibility": null,
            "width": null
          }
        },
        "235f26fc29994b5ba372d2ed7836ed13": {
          "model_module": "@jupyter-widgets/controls",
          "model_name": "ButtonStyleModel",
          "model_module_version": "1.5.0",
          "state": {
            "_model_module": "@jupyter-widgets/controls",
            "_model_module_version": "1.5.0",
            "_model_name": "ButtonStyleModel",
            "_view_count": null,
            "_view_module": "@jupyter-widgets/base",
            "_view_module_version": "1.2.0",
            "_view_name": "StyleView",
            "button_color": null,
            "font_weight": ""
          }
        },
        "6fffaf97b8444fe38ac01b7ffbc71f30": {
          "model_module": "@jupyter-widgets/output",
          "model_name": "OutputModel",
          "model_module_version": "1.0.0",
          "state": {
            "_dom_classes": [],
            "_model_module": "@jupyter-widgets/output",
            "_model_module_version": "1.0.0",
            "_model_name": "OutputModel",
            "_view_count": null,
            "_view_module": "@jupyter-widgets/output",
            "_view_module_version": "1.0.0",
            "_view_name": "OutputView",
            "layout": "IPY_MODEL_6f07bf3eed0749bdb4e0f74e4ac455eb",
            "msg_id": "",
            "outputs": [
              {
                "output_type": "stream",
                "name": "stdout",
                "text": [
                  "Item ID: Q164106\n",
                  "Is Human: True\n",
                  "Birth Name: Péter Esterházy\n",
                  "Given Name: \n",
                  "Date of Birth: +1950-04-14T00:00:00Z\n",
                  "Date of Death: +2016-07-14T00:00:00Z\n",
                  "Birth Place: Q1781\n",
                  "Death Place: Q1781\n",
                  "Death Date Valid: True\n",
                  "Birth Place is Settlement: False\n",
                  "Death Place is Settlement: False\n",
                  "Birth Place Has Coordinates: True\n",
                  "Death Place Has Coordinates: True\n"
                ]
              }
            ]
          }
        },
        "6f07bf3eed0749bdb4e0f74e4ac455eb": {
          "model_module": "@jupyter-widgets/base",
          "model_name": "LayoutModel",
          "model_module_version": "1.2.0",
          "state": {
            "_model_module": "@jupyter-widgets/base",
            "_model_module_version": "1.2.0",
            "_model_name": "LayoutModel",
            "_view_count": null,
            "_view_module": "@jupyter-widgets/base",
            "_view_module_version": "1.2.0",
            "_view_name": "LayoutView",
            "align_content": null,
            "align_items": null,
            "align_self": null,
            "border": null,
            "bottom": null,
            "display": null,
            "flex": null,
            "flex_flow": null,
            "grid_area": null,
            "grid_auto_columns": null,
            "grid_auto_flow": null,
            "grid_auto_rows": null,
            "grid_column": null,
            "grid_gap": null,
            "grid_row": null,
            "grid_template_areas": null,
            "grid_template_columns": null,
            "grid_template_rows": null,
            "height": null,
            "justify_content": null,
            "justify_items": null,
            "left": null,
            "margin": null,
            "max_height": null,
            "max_width": null,
            "min_height": null,
            "min_width": null,
            "object_fit": null,
            "object_position": null,
            "order": null,
            "overflow": null,
            "overflow_x": null,
            "overflow_y": null,
            "padding": null,
            "right": null,
            "top": null,
            "visibility": null,
            "width": null
          }
        }
      }
    }
  },
  "cells": [
    {
      "cell_type": "code",
      "execution_count": 3,
      "metadata": {
        "colab": {
          "base_uri": "https://localhost:8080/",
          "height": 359,
          "referenced_widgets": [
            "1c2213b8ff0a4a159c2214d0dfe94efe",
            "fbb7981ecb4e46469e426e91f3cebd85",
            "7809e1cb353846259329677d5839187a",
            "1f0285e7464b401a8c5e85e9898e25c6",
            "6b1318021d3e4f14ab4ef2e87f7ee50a",
            "235f26fc29994b5ba372d2ed7836ed13",
            "6fffaf97b8444fe38ac01b7ffbc71f30",
            "6f07bf3eed0749bdb4e0f74e4ac455eb"
          ]
        },
        "id": "qQEnP3UdVOf_",
        "outputId": "ed2c6f22-86d6-4327-fc5d-32c17bc4e7dc"
      },
      "outputs": [
        {
          "output_type": "stream",
          "name": "stdout",
          "text": [
            "Requirement already satisfied: wikitextparser in /usr/local/lib/python3.10/dist-packages (0.55.6)\n",
            "Requirement already satisfied: regex>=2022.9.11 in /usr/local/lib/python3.10/dist-packages (from wikitextparser) (2023.6.3)\n",
            "Requirement already satisfied: wcwidth in /usr/local/lib/python3.10/dist-packages (from wikitextparser) (0.2.12)\n"
          ]
        },
        {
          "output_type": "display_data",
          "data": {
            "text/plain": [
              "Text(value='', description='Wikidata Item ID:')"
            ],
            "application/vnd.jupyter.widget-view+json": {
              "version_major": 2,
              "version_minor": 0,
              "model_id": "1c2213b8ff0a4a159c2214d0dfe94efe"
            }
          },
          "metadata": {}
        },
        {
          "output_type": "display_data",
          "data": {
            "text/plain": [
              "Button(description='Check', style=ButtonStyle())"
            ],
            "application/vnd.jupyter.widget-view+json": {
              "version_major": 2,
              "version_minor": 0,
              "model_id": "1f0285e7464b401a8c5e85e9898e25c6"
            }
          },
          "metadata": {}
        },
        {
          "output_type": "display_data",
          "data": {
            "text/plain": [
              "Output()"
            ],
            "application/vnd.jupyter.widget-view+json": {
              "version_major": 2,
              "version_minor": 0,
              "model_id": "6fffaf97b8444fe38ac01b7ffbc71f30"
            }
          },
          "metadata": {}
        }
      ],
      "source": [
        "!pip install wikitextparser\n",
        "\n",
        "import ipywidgets as widgets\n",
        "from IPython.display import display, clear_output\n",
        "import wikitextparser as wtp\n",
        "import requests\n",
        "\n",
        "def check_wikidata_item(item_id):\n",
        "    result_output.clear_output()\n",
        "\n",
        "    # Get Wikidata content for the given item ID\n",
        "    wikidata_api_url = f\"https://www.wikidata.org/w/api.php?action=wbgetentities&format=json&props=claims|labels|descriptions&ids={item_id}\"\n",
        "    response = requests.get(wikidata_api_url)\n",
        "    wikidata_data = response.json()\n",
        "\n",
        "    try:\n",
        "        # Extract relevant information from the response\n",
        "        entity = wikidata_data['entities'][item_id]\n",
        "        claims = entity.get('claims', {})\n",
        "        labels = entity.get('labels', {})\n",
        "\n",
        "        # Check if the item is an instance of human\n",
        "        instance_of_claim = claims.get('P31', [])\n",
        "        is_human = any(claim['mainsnak']['datavalue']['value']['id'] == 'Q5' for claim in instance_of_claim)\n",
        "\n",
        "        # Check if required fields are present\n",
        "        birth_name = labels.get('en', {}).get('value', '')\n",
        "        given_name = claims.get('P735', [{}])[0].get('mainsnak', {}).get('datavalue', {}).get('value', {}).get('text', '')\n",
        "        date_of_birth = claims.get('P569', [{}])[0].get('mainsnak', {}).get('datavalue', {}).get('value', {}).get('time', '')\n",
        "        date_of_death = claims.get('P570', [{}])[0].get('mainsnak', {}).get('datavalue', {}).get('value', {}).get('time', '')\n",
        "        birth_place = claims.get('P19', [{}])[0].get('mainsnak', {}).get('datavalue', {}).get('value', {}).get('id', '')\n",
        "        death_place = claims.get('P20', [{}])[0].get('mainsnak', {}).get('datavalue', {}).get('value', {}).get('id', '')\n",
        "\n",
        "        # Check if death date is later than birth date\n",
        "        death_date_valid = not (date_of_birth and date_of_death and date_of_birth > date_of_death)\n",
        "\n",
        "        # Check if birth place and death place are human settlements\n",
        "        birth_place_is_settlement = is_human_settlement(birth_place)\n",
        "        death_place_is_settlement = is_human_settlement(death_place)\n",
        "\n",
        "        # Check if birth place and death place have coordinates\n",
        "        birth_place_has_coordinates = has_coordinates(birth_place)\n",
        "        death_place_has_coordinates = has_coordinates(death_place)\n",
        "\n",
        "        # Display the results\n",
        "        with result_output:\n",
        "            print(f\"Item ID: {item_id}\")\n",
        "            print(f\"Is Human: {is_human}\")\n",
        "            print(f\"Birth Name: {birth_name}\")\n",
        "            print(f\"Given Name: {given_name}\")\n",
        "            print(f\"Date of Birth: {date_of_birth}\")\n",
        "            print(f\"Date of Death: {date_of_death}\")\n",
        "            print(f\"Birth Place: {birth_place}\")\n",
        "            print(f\"Death Place: {death_place}\")\n",
        "            print(f\"Death Date Valid: {death_date_valid}\")\n",
        "            print(f\"Birth Place is Settlement: {birth_place_is_settlement}\")\n",
        "            print(f\"Death Place is Settlement: {death_place_is_settlement}\")\n",
        "            print(f\"Birth Place Has Coordinates: {birth_place_has_coordinates}\")\n",
        "            print(f\"Death Place Has Coordinates: {death_place_has_coordinates}\")\n",
        "\n",
        "    except KeyError:\n",
        "        with result_output:\n",
        "            print(f\"Error: Invalid Wikidata item ID\")\n",
        "\n",
        "def is_human_settlement(item_id):\n",
        "    if not item_id:\n",
        "        return False\n",
        "\n",
        "    wikidata_api_url = f\"https://www.wikidata.org/w/api.php?action=wbgetentities&format=json&props=claims&ids={item_id}\"\n",
        "    response = requests.get(wikidata_api_url)\n",
        "    wikidata_data = response.json()\n",
        "\n",
        "    try:\n",
        "        claims = wikidata_data['entities'][item_id].get('claims', {})\n",
        "        instance_of_claim = claims.get('P31', [])\n",
        "        return any(claim['mainsnak']['datavalue']['value']['id'] == 'Q486972' for claim in instance_of_claim)\n",
        "    except KeyError:\n",
        "        return False\n",
        "\n",
        "def has_coordinates(item_id):\n",
        "    if not item_id:\n",
        "        return False\n",
        "\n",
        "    wikidata_api_url = f\"https://www.wikidata.org/w/api.php?action=wbgetentities&format=json&props=claims&ids={item_id}\"\n",
        "    response = requests.get(wikidata_api_url)\n",
        "    wikidata_data = response.json()\n",
        "\n",
        "    try:\n",
        "        claims = wikidata_data['entities'][item_id].get('claims', {})\n",
        "        coordinates_claim = claims.get('P625', [])\n",
        "        return len(coordinates_claim) > 0\n",
        "    except KeyError:\n",
        "        return False\n",
        "\n",
        "# Create widgets\n",
        "wikidata_item_id_input = widgets.Text(description='Wikidata Item ID:')\n",
        "check_button = widgets.Button(description='Check')\n",
        "result_output = widgets.Output()\n",
        "\n",
        "# Define event handler for the button click\n",
        "def on_check_button_click(b):\n",
        "    check_wikidata_item(wikidata_item_id_input.value)\n",
        "\n",
        "# Attach event handler to the button\n",
        "check_button.on_click(on_check_button_click)\n",
        "\n",
        "# Display widgets\n",
        "display(wikidata_item_id_input, check_button, result_output)\n"
      ]
    }
  ]
}